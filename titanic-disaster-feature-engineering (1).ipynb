{
 "cells": [
  {
   "cell_type": "code",
   "execution_count": 1,
   "id": "2ae97567",
   "metadata": {
    "_cell_guid": "b1076dfc-b9ad-4769-8c92-a6c4dae69d19",
    "_uuid": "8f2839f25d086af736a60e9eeb907d3b93b6e0e5",
    "execution": {
     "iopub.execute_input": "2023-03-02T18:17:40.612510Z",
     "iopub.status.busy": "2023-03-02T18:17:40.611978Z",
     "iopub.status.idle": "2023-03-02T18:17:40.626016Z",
     "shell.execute_reply": "2023-03-02T18:17:40.624956Z"
    },
    "papermill": {
     "duration": 0.026189,
     "end_time": "2023-03-02T18:17:40.628602",
     "exception": false,
     "start_time": "2023-03-02T18:17:40.602413",
     "status": "completed"
    },
    "tags": []
   },
   "outputs": [
    {
     "name": "stdout",
     "output_type": "stream",
     "text": [
      "/kaggle/input/titanic/train.csv\n",
      "/kaggle/input/titanic/test.csv\n",
      "/kaggle/input/titanic/gender_submission.csv\n"
     ]
    }
   ],
   "source": [
    "# This Python 3 environment comes with many helpful analytics libraries installed\n",
    "# It is defined by the kaggle/python Docker image: https://github.com/kaggle/docker-python\n",
    "# For example, here's several helpful packages to load\n",
    "\n",
    "import numpy as np # linear algebra\n",
    "import pandas as pd # data processing, CSV file I/O (e.g. pd.read_csv)\n",
    "\n",
    "# Input data files are available in the read-only \"../input/\" directory\n",
    "# For example, running this (by clicking run or pressing Shift+Enter) will list all files under the input directory\n",
    "\n",
    "import os\n",
    "for dirname, _, filenames in os.walk('/kaggle/input'):\n",
    "    for filename in filenames:\n",
    "        print(os.path.join(dirname, filename))\n",
    "\n",
    "# You can write up to 20GB to the current directory (/kaggle/working/) that gets preserved as output when you create a version using \"Save & Run All\" \n",
    "# You can also write temporary files to /kaggle/temp/, but they won't be saved outside of the current session"
   ]
  },
  {
   "cell_type": "code",
   "execution_count": 2,
   "id": "020b4554",
   "metadata": {
    "execution": {
     "iopub.execute_input": "2023-03-02T18:17:40.643609Z",
     "iopub.status.busy": "2023-03-02T18:17:40.642853Z",
     "iopub.status.idle": "2023-03-02T18:17:40.666090Z",
     "shell.execute_reply": "2023-03-02T18:17:40.665048Z"
    },
    "papermill": {
     "duration": 0.033468,
     "end_time": "2023-03-02T18:17:40.668697",
     "exception": false,
     "start_time": "2023-03-02T18:17:40.635229",
     "status": "completed"
    },
    "tags": []
   },
   "outputs": [],
   "source": [
    "data = pd.read_csv('/kaggle/input/titanic/train.csv')"
   ]
  },
  {
   "cell_type": "code",
   "execution_count": 3,
   "id": "0336b43c",
   "metadata": {
    "execution": {
     "iopub.execute_input": "2023-03-02T18:17:40.684508Z",
     "iopub.status.busy": "2023-03-02T18:17:40.683756Z",
     "iopub.status.idle": "2023-03-02T18:17:40.714628Z",
     "shell.execute_reply": "2023-03-02T18:17:40.713537Z"
    },
    "papermill": {
     "duration": 0.041341,
     "end_time": "2023-03-02T18:17:40.717159",
     "exception": false,
     "start_time": "2023-03-02T18:17:40.675818",
     "status": "completed"
    },
    "tags": []
   },
   "outputs": [
    {
     "data": {
      "text/html": [
       "<div>\n",
       "<style scoped>\n",
       "    .dataframe tbody tr th:only-of-type {\n",
       "        vertical-align: middle;\n",
       "    }\n",
       "\n",
       "    .dataframe tbody tr th {\n",
       "        vertical-align: top;\n",
       "    }\n",
       "\n",
       "    .dataframe thead th {\n",
       "        text-align: right;\n",
       "    }\n",
       "</style>\n",
       "<table border=\"1\" class=\"dataframe\">\n",
       "  <thead>\n",
       "    <tr style=\"text-align: right;\">\n",
       "      <th></th>\n",
       "      <th>PassengerId</th>\n",
       "      <th>Survived</th>\n",
       "      <th>Pclass</th>\n",
       "      <th>Name</th>\n",
       "      <th>Sex</th>\n",
       "      <th>Age</th>\n",
       "      <th>SibSp</th>\n",
       "      <th>Parch</th>\n",
       "      <th>Ticket</th>\n",
       "      <th>Fare</th>\n",
       "      <th>Cabin</th>\n",
       "      <th>Embarked</th>\n",
       "    </tr>\n",
       "  </thead>\n",
       "  <tbody>\n",
       "    <tr>\n",
       "      <th>0</th>\n",
       "      <td>1</td>\n",
       "      <td>0</td>\n",
       "      <td>3</td>\n",
       "      <td>Braund, Mr. Owen Harris</td>\n",
       "      <td>male</td>\n",
       "      <td>22.0</td>\n",
       "      <td>1</td>\n",
       "      <td>0</td>\n",
       "      <td>A/5 21171</td>\n",
       "      <td>7.2500</td>\n",
       "      <td>NaN</td>\n",
       "      <td>S</td>\n",
       "    </tr>\n",
       "    <tr>\n",
       "      <th>1</th>\n",
       "      <td>2</td>\n",
       "      <td>1</td>\n",
       "      <td>1</td>\n",
       "      <td>Cumings, Mrs. John Bradley (Florence Briggs Th...</td>\n",
       "      <td>female</td>\n",
       "      <td>38.0</td>\n",
       "      <td>1</td>\n",
       "      <td>0</td>\n",
       "      <td>PC 17599</td>\n",
       "      <td>71.2833</td>\n",
       "      <td>C85</td>\n",
       "      <td>C</td>\n",
       "    </tr>\n",
       "    <tr>\n",
       "      <th>2</th>\n",
       "      <td>3</td>\n",
       "      <td>1</td>\n",
       "      <td>3</td>\n",
       "      <td>Heikkinen, Miss. Laina</td>\n",
       "      <td>female</td>\n",
       "      <td>26.0</td>\n",
       "      <td>0</td>\n",
       "      <td>0</td>\n",
       "      <td>STON/O2. 3101282</td>\n",
       "      <td>7.9250</td>\n",
       "      <td>NaN</td>\n",
       "      <td>S</td>\n",
       "    </tr>\n",
       "    <tr>\n",
       "      <th>3</th>\n",
       "      <td>4</td>\n",
       "      <td>1</td>\n",
       "      <td>1</td>\n",
       "      <td>Futrelle, Mrs. Jacques Heath (Lily May Peel)</td>\n",
       "      <td>female</td>\n",
       "      <td>35.0</td>\n",
       "      <td>1</td>\n",
       "      <td>0</td>\n",
       "      <td>113803</td>\n",
       "      <td>53.1000</td>\n",
       "      <td>C123</td>\n",
       "      <td>S</td>\n",
       "    </tr>\n",
       "    <tr>\n",
       "      <th>4</th>\n",
       "      <td>5</td>\n",
       "      <td>0</td>\n",
       "      <td>3</td>\n",
       "      <td>Allen, Mr. William Henry</td>\n",
       "      <td>male</td>\n",
       "      <td>35.0</td>\n",
       "      <td>0</td>\n",
       "      <td>0</td>\n",
       "      <td>373450</td>\n",
       "      <td>8.0500</td>\n",
       "      <td>NaN</td>\n",
       "      <td>S</td>\n",
       "    </tr>\n",
       "  </tbody>\n",
       "</table>\n",
       "</div>"
      ],
      "text/plain": [
       "   PassengerId  Survived  Pclass  \\\n",
       "0            1         0       3   \n",
       "1            2         1       1   \n",
       "2            3         1       3   \n",
       "3            4         1       1   \n",
       "4            5         0       3   \n",
       "\n",
       "                                                Name     Sex   Age  SibSp  \\\n",
       "0                            Braund, Mr. Owen Harris    male  22.0      1   \n",
       "1  Cumings, Mrs. John Bradley (Florence Briggs Th...  female  38.0      1   \n",
       "2                             Heikkinen, Miss. Laina  female  26.0      0   \n",
       "3       Futrelle, Mrs. Jacques Heath (Lily May Peel)  female  35.0      1   \n",
       "4                           Allen, Mr. William Henry    male  35.0      0   \n",
       "\n",
       "   Parch            Ticket     Fare Cabin Embarked  \n",
       "0      0         A/5 21171   7.2500   NaN        S  \n",
       "1      0          PC 17599  71.2833   C85        C  \n",
       "2      0  STON/O2. 3101282   7.9250   NaN        S  \n",
       "3      0            113803  53.1000  C123        S  \n",
       "4      0            373450   8.0500   NaN        S  "
      ]
     },
     "execution_count": 3,
     "metadata": {},
     "output_type": "execute_result"
    }
   ],
   "source": [
    "data.head()"
   ]
  },
  {
   "cell_type": "markdown",
   "id": "ca1e0654",
   "metadata": {
    "papermill": {
     "duration": 0.006294,
     "end_time": "2023-03-02T18:17:40.729978",
     "exception": false,
     "start_time": "2023-03-02T18:17:40.723684",
     "status": "completed"
    },
    "tags": []
   },
   "source": [
    "**droping cols which have more than 70% null values using thresh parameter**"
   ]
  },
  {
   "cell_type": "code",
   "execution_count": 4,
   "id": "af7ea2cc",
   "metadata": {
    "execution": {
     "iopub.execute_input": "2023-03-02T18:17:40.745557Z",
     "iopub.status.busy": "2023-03-02T18:17:40.744390Z",
     "iopub.status.idle": "2023-03-02T18:17:40.759704Z",
     "shell.execute_reply": "2023-03-02T18:17:40.758328Z"
    },
    "papermill": {
     "duration": 0.025821,
     "end_time": "2023-03-02T18:17:40.762378",
     "exception": false,
     "start_time": "2023-03-02T18:17:40.736557",
     "status": "completed"
    },
    "tags": []
   },
   "outputs": [],
   "source": [
    "data = data.dropna(thresh=data.shape[0]*0.7,how='all',axis=1)"
   ]
  },
  {
   "cell_type": "code",
   "execution_count": 5,
   "id": "40f6b9f8",
   "metadata": {
    "execution": {
     "iopub.execute_input": "2023-03-02T18:17:40.777504Z",
     "iopub.status.busy": "2023-03-02T18:17:40.777047Z",
     "iopub.status.idle": "2023-03-02T18:17:40.794779Z",
     "shell.execute_reply": "2023-03-02T18:17:40.793531Z"
    },
    "papermill": {
     "duration": 0.028463,
     "end_time": "2023-03-02T18:17:40.797464",
     "exception": false,
     "start_time": "2023-03-02T18:17:40.769001",
     "status": "completed"
    },
    "tags": []
   },
   "outputs": [
    {
     "data": {
      "text/html": [
       "<div>\n",
       "<style scoped>\n",
       "    .dataframe tbody tr th:only-of-type {\n",
       "        vertical-align: middle;\n",
       "    }\n",
       "\n",
       "    .dataframe tbody tr th {\n",
       "        vertical-align: top;\n",
       "    }\n",
       "\n",
       "    .dataframe thead th {\n",
       "        text-align: right;\n",
       "    }\n",
       "</style>\n",
       "<table border=\"1\" class=\"dataframe\">\n",
       "  <thead>\n",
       "    <tr style=\"text-align: right;\">\n",
       "      <th></th>\n",
       "      <th>PassengerId</th>\n",
       "      <th>Survived</th>\n",
       "      <th>Pclass</th>\n",
       "      <th>Name</th>\n",
       "      <th>Sex</th>\n",
       "      <th>Age</th>\n",
       "      <th>SibSp</th>\n",
       "      <th>Parch</th>\n",
       "      <th>Ticket</th>\n",
       "      <th>Fare</th>\n",
       "      <th>Embarked</th>\n",
       "    </tr>\n",
       "  </thead>\n",
       "  <tbody>\n",
       "    <tr>\n",
       "      <th>0</th>\n",
       "      <td>1</td>\n",
       "      <td>0</td>\n",
       "      <td>3</td>\n",
       "      <td>Braund, Mr. Owen Harris</td>\n",
       "      <td>male</td>\n",
       "      <td>22.0</td>\n",
       "      <td>1</td>\n",
       "      <td>0</td>\n",
       "      <td>A/5 21171</td>\n",
       "      <td>7.2500</td>\n",
       "      <td>S</td>\n",
       "    </tr>\n",
       "    <tr>\n",
       "      <th>1</th>\n",
       "      <td>2</td>\n",
       "      <td>1</td>\n",
       "      <td>1</td>\n",
       "      <td>Cumings, Mrs. John Bradley (Florence Briggs Th...</td>\n",
       "      <td>female</td>\n",
       "      <td>38.0</td>\n",
       "      <td>1</td>\n",
       "      <td>0</td>\n",
       "      <td>PC 17599</td>\n",
       "      <td>71.2833</td>\n",
       "      <td>C</td>\n",
       "    </tr>\n",
       "    <tr>\n",
       "      <th>2</th>\n",
       "      <td>3</td>\n",
       "      <td>1</td>\n",
       "      <td>3</td>\n",
       "      <td>Heikkinen, Miss. Laina</td>\n",
       "      <td>female</td>\n",
       "      <td>26.0</td>\n",
       "      <td>0</td>\n",
       "      <td>0</td>\n",
       "      <td>STON/O2. 3101282</td>\n",
       "      <td>7.9250</td>\n",
       "      <td>S</td>\n",
       "    </tr>\n",
       "    <tr>\n",
       "      <th>3</th>\n",
       "      <td>4</td>\n",
       "      <td>1</td>\n",
       "      <td>1</td>\n",
       "      <td>Futrelle, Mrs. Jacques Heath (Lily May Peel)</td>\n",
       "      <td>female</td>\n",
       "      <td>35.0</td>\n",
       "      <td>1</td>\n",
       "      <td>0</td>\n",
       "      <td>113803</td>\n",
       "      <td>53.1000</td>\n",
       "      <td>S</td>\n",
       "    </tr>\n",
       "    <tr>\n",
       "      <th>4</th>\n",
       "      <td>5</td>\n",
       "      <td>0</td>\n",
       "      <td>3</td>\n",
       "      <td>Allen, Mr. William Henry</td>\n",
       "      <td>male</td>\n",
       "      <td>35.0</td>\n",
       "      <td>0</td>\n",
       "      <td>0</td>\n",
       "      <td>373450</td>\n",
       "      <td>8.0500</td>\n",
       "      <td>S</td>\n",
       "    </tr>\n",
       "  </tbody>\n",
       "</table>\n",
       "</div>"
      ],
      "text/plain": [
       "   PassengerId  Survived  Pclass  \\\n",
       "0            1         0       3   \n",
       "1            2         1       1   \n",
       "2            3         1       3   \n",
       "3            4         1       1   \n",
       "4            5         0       3   \n",
       "\n",
       "                                                Name     Sex   Age  SibSp  \\\n",
       "0                            Braund, Mr. Owen Harris    male  22.0      1   \n",
       "1  Cumings, Mrs. John Bradley (Florence Briggs Th...  female  38.0      1   \n",
       "2                             Heikkinen, Miss. Laina  female  26.0      0   \n",
       "3       Futrelle, Mrs. Jacques Heath (Lily May Peel)  female  35.0      1   \n",
       "4                           Allen, Mr. William Henry    male  35.0      0   \n",
       "\n",
       "   Parch            Ticket     Fare Embarked  \n",
       "0      0         A/5 21171   7.2500        S  \n",
       "1      0          PC 17599  71.2833        C  \n",
       "2      0  STON/O2. 3101282   7.9250        S  \n",
       "3      0            113803  53.1000        S  \n",
       "4      0            373450   8.0500        S  "
      ]
     },
     "execution_count": 5,
     "metadata": {},
     "output_type": "execute_result"
    }
   ],
   "source": [
    "data.head()"
   ]
  },
  {
   "cell_type": "code",
   "execution_count": 6,
   "id": "08fc671a",
   "metadata": {
    "execution": {
     "iopub.execute_input": "2023-03-02T18:17:40.813579Z",
     "iopub.status.busy": "2023-03-02T18:17:40.813176Z",
     "iopub.status.idle": "2023-03-02T18:17:40.823187Z",
     "shell.execute_reply": "2023-03-02T18:17:40.821825Z"
    },
    "papermill": {
     "duration": 0.020958,
     "end_time": "2023-03-02T18:17:40.825636",
     "exception": false,
     "start_time": "2023-03-02T18:17:40.804678",
     "status": "completed"
    },
    "tags": []
   },
   "outputs": [
    {
     "data": {
      "text/plain": [
       "PassengerId      0\n",
       "Survived         0\n",
       "Pclass           0\n",
       "Name             0\n",
       "Sex              0\n",
       "Age            177\n",
       "SibSp            0\n",
       "Parch            0\n",
       "Ticket           0\n",
       "Fare             0\n",
       "Embarked         2\n",
       "dtype: int64"
      ]
     },
     "execution_count": 6,
     "metadata": {},
     "output_type": "execute_result"
    }
   ],
   "source": [
    "#checking the null values in columns.\n",
    "data.isnull().sum()  "
   ]
  },
  {
   "cell_type": "code",
   "execution_count": 7,
   "id": "cb1cf737",
   "metadata": {
    "execution": {
     "iopub.execute_input": "2023-03-02T18:17:40.841577Z",
     "iopub.status.busy": "2023-03-02T18:17:40.841174Z",
     "iopub.status.idle": "2023-03-02T18:17:40.853220Z",
     "shell.execute_reply": "2023-03-02T18:17:40.851824Z"
    },
    "papermill": {
     "duration": 0.023194,
     "end_time": "2023-03-02T18:17:40.855969",
     "exception": false,
     "start_time": "2023-03-02T18:17:40.832775",
     "status": "completed"
    },
    "tags": []
   },
   "outputs": [],
   "source": [
    "data['Age']=data['Age'].fillna(data['Age'].median())"
   ]
  },
  {
   "cell_type": "code",
   "execution_count": 8,
   "id": "8dfd4657",
   "metadata": {
    "execution": {
     "iopub.execute_input": "2023-03-02T18:17:40.872372Z",
     "iopub.status.busy": "2023-03-02T18:17:40.871860Z",
     "iopub.status.idle": "2023-03-02T18:17:40.882312Z",
     "shell.execute_reply": "2023-03-02T18:17:40.881198Z"
    },
    "papermill": {
     "duration": 0.021465,
     "end_time": "2023-03-02T18:17:40.884675",
     "exception": false,
     "start_time": "2023-03-02T18:17:40.863210",
     "status": "completed"
    },
    "tags": []
   },
   "outputs": [
    {
     "data": {
      "text/plain": [
       "PassengerId    0\n",
       "Survived       0\n",
       "Pclass         0\n",
       "Name           0\n",
       "Sex            0\n",
       "Age            0\n",
       "SibSp          0\n",
       "Parch          0\n",
       "Ticket         0\n",
       "Fare           0\n",
       "Embarked       2\n",
       "dtype: int64"
      ]
     },
     "execution_count": 8,
     "metadata": {},
     "output_type": "execute_result"
    }
   ],
   "source": [
    "data.isnull().sum()"
   ]
  },
  {
   "cell_type": "code",
   "execution_count": 9,
   "id": "08bd5aaa",
   "metadata": {
    "execution": {
     "iopub.execute_input": "2023-03-02T18:17:40.901458Z",
     "iopub.status.busy": "2023-03-02T18:17:40.901015Z",
     "iopub.status.idle": "2023-03-02T18:17:40.910362Z",
     "shell.execute_reply": "2023-03-02T18:17:40.909499Z"
    },
    "papermill": {
     "duration": 0.020594,
     "end_time": "2023-03-02T18:17:40.912692",
     "exception": false,
     "start_time": "2023-03-02T18:17:40.892098",
     "status": "completed"
    },
    "tags": []
   },
   "outputs": [],
   "source": [
    "# imputing the embarked column with most occuring value.\n",
    "data['Embarked'].fillna(data['Embarked'].value_counts().idxmax(),inplace = True)"
   ]
  },
  {
   "cell_type": "code",
   "execution_count": 10,
   "id": "a6610920",
   "metadata": {
    "execution": {
     "iopub.execute_input": "2023-03-02T18:17:40.929311Z",
     "iopub.status.busy": "2023-03-02T18:17:40.928898Z",
     "iopub.status.idle": "2023-03-02T18:17:40.938907Z",
     "shell.execute_reply": "2023-03-02T18:17:40.937748Z"
    },
    "papermill": {
     "duration": 0.021155,
     "end_time": "2023-03-02T18:17:40.941248",
     "exception": false,
     "start_time": "2023-03-02T18:17:40.920093",
     "status": "completed"
    },
    "tags": []
   },
   "outputs": [
    {
     "data": {
      "text/plain": [
       "PassengerId    0\n",
       "Survived       0\n",
       "Pclass         0\n",
       "Name           0\n",
       "Sex            0\n",
       "Age            0\n",
       "SibSp          0\n",
       "Parch          0\n",
       "Ticket         0\n",
       "Fare           0\n",
       "Embarked       0\n",
       "dtype: int64"
      ]
     },
     "execution_count": 10,
     "metadata": {},
     "output_type": "execute_result"
    }
   ],
   "source": [
    "data.isnull().sum()"
   ]
  },
  {
   "cell_type": "code",
   "execution_count": 11,
   "id": "0fd08a7a",
   "metadata": {
    "execution": {
     "iopub.execute_input": "2023-03-02T18:17:40.958212Z",
     "iopub.status.busy": "2023-03-02T18:17:40.957492Z",
     "iopub.status.idle": "2023-03-02T18:17:40.965015Z",
     "shell.execute_reply": "2023-03-02T18:17:40.963744Z"
    },
    "papermill": {
     "duration": 0.018678,
     "end_time": "2023-03-02T18:17:40.967726",
     "exception": false,
     "start_time": "2023-03-02T18:17:40.949048",
     "status": "completed"
    },
    "tags": []
   },
   "outputs": [],
   "source": [
    "#next is to handle the outliers.\n",
    "# outlier detection using standard deviation and Z score\n",
    "new_data = data\n",
    "# declaring value for factor to calculate our limit\n",
    "factor = 3\n",
    "# calculating the standard deviation and mean for fare column\n",
    "std = new_data['Fare'].std()\n",
    "mean = new_data['Fare'].mean()"
   ]
  },
  {
   "cell_type": "code",
   "execution_count": 12,
   "id": "e9b53b30",
   "metadata": {
    "execution": {
     "iopub.execute_input": "2023-03-02T18:17:40.984721Z",
     "iopub.status.busy": "2023-03-02T18:17:40.983766Z",
     "iopub.status.idle": "2023-03-02T18:17:40.990426Z",
     "shell.execute_reply": "2023-03-02T18:17:40.989229Z"
    },
    "papermill": {
     "duration": 0.018518,
     "end_time": "2023-03-02T18:17:40.993455",
     "exception": false,
     "start_time": "2023-03-02T18:17:40.974937",
     "status": "completed"
    },
    "tags": []
   },
   "outputs": [
    {
     "name": "stdout",
     "output_type": "stream",
     "text": [
      "181.2844937601173\n",
      "-116.87607782296804\n"
     ]
    }
   ],
   "source": [
    "#calculating upper and lower limit for the fare column\n",
    "upper_limit = mean+(3*std)\n",
    "lower_limit = mean-(3*std)\n",
    "print(upper_limit)\n",
    "print(lower_limit)"
   ]
  },
  {
   "cell_type": "code",
   "execution_count": 13,
   "id": "e3d326a5",
   "metadata": {
    "execution": {
     "iopub.execute_input": "2023-03-02T18:17:41.011436Z",
     "iopub.status.busy": "2023-03-02T18:17:41.010984Z",
     "iopub.status.idle": "2023-03-02T18:17:41.020392Z",
     "shell.execute_reply": "2023-03-02T18:17:41.019037Z"
    },
    "papermill": {
     "duration": 0.020876,
     "end_time": "2023-03-02T18:17:41.022957",
     "exception": false,
     "start_time": "2023-03-02T18:17:41.002081",
     "status": "completed"
    },
    "tags": []
   },
   "outputs": [
    {
     "name": "stdout",
     "output_type": "stream",
     "text": [
      "891\n",
      "871\n"
     ]
    }
   ],
   "source": [
    "new_data = new_data[(new_data['Fare']>=lower_limit) & (new_data['Fare']<=upper_limit)]\n",
    "# Here we can observe the outliers from old and new data\n",
    "print(len(data))\n",
    "print(len(new_data)) \n"
   ]
  },
  {
   "cell_type": "code",
   "execution_count": 14,
   "id": "c2088505",
   "metadata": {
    "execution": {
     "iopub.execute_input": "2023-03-02T18:17:41.040116Z",
     "iopub.status.busy": "2023-03-02T18:17:41.039662Z",
     "iopub.status.idle": "2023-03-02T18:17:41.052432Z",
     "shell.execute_reply": "2023-03-02T18:17:41.051094Z"
    },
    "papermill": {
     "duration": 0.02461,
     "end_time": "2023-03-02T18:17:41.055424",
     "exception": false,
     "start_time": "2023-03-02T18:17:41.030814",
     "status": "completed"
    },
    "tags": []
   },
   "outputs": [
    {
     "name": "stdout",
     "output_type": "stream",
     "text": [
      "891\n",
      "791\n"
     ]
    }
   ],
   "source": [
    "# outlier detection and removal using pandas\n",
    "new_data = data.copy()\n",
    "#creating the  upper and lower limits for column 'Fare' based on 95% and 5% respectively.\n",
    "upper_limit = new_data['Fare'].quantile(0.95)\n",
    "lower_limit = new_data['Fare'].quantile(0.05)\n",
    "#check the original data and new_data to identify the outliers.\n",
    "new_data = new_data[(new_data['Fare']>lower_limit)&(new_data['Fare']<upper_limit)]\n",
    "print(len(data))\n",
    "print(len(new_data))"
   ]
  },
  {
   "cell_type": "code",
   "execution_count": 15,
   "id": "7f067434",
   "metadata": {
    "execution": {
     "iopub.execute_input": "2023-03-02T18:17:41.071746Z",
     "iopub.status.busy": "2023-03-02T18:17:41.071308Z",
     "iopub.status.idle": "2023-03-02T18:17:41.084789Z",
     "shell.execute_reply": "2023-03-02T18:17:41.082828Z"
    },
    "papermill": {
     "duration": 0.024802,
     "end_time": "2023-03-02T18:17:41.087523",
     "exception": false,
     "start_time": "2023-03-02T18:17:41.062721",
     "status": "completed"
    },
    "tags": []
   },
   "outputs": [
    {
     "name": "stdout",
     "output_type": "stream",
     "text": [
      "891\n",
      "891\n"
     ]
    }
   ],
   "source": [
    "new_data = data.copy()\n",
    "upper_limit = new_data['Fare'].quantile(0.95)\n",
    "lower_limit = new_data['Fare'].quantile(0.05)\n",
    "# caping the outliers\n",
    "new_data.loc[(new_data['Fare']>upper_limit),'Fare']= upper_limit\n",
    "new_data.loc[(new_data['Fare']<lower_limit),'Fare']= lower_limit\n",
    "print(len(data))\n",
    "print(len(new_data))"
   ]
  },
  {
   "cell_type": "code",
   "execution_count": 16,
   "id": "3c7612da",
   "metadata": {
    "execution": {
     "iopub.execute_input": "2023-03-02T18:17:41.104279Z",
     "iopub.status.busy": "2023-03-02T18:17:41.103727Z",
     "iopub.status.idle": "2023-03-02T18:17:41.129909Z",
     "shell.execute_reply": "2023-03-02T18:17:41.128611Z"
    },
    "papermill": {
     "duration": 0.037498,
     "end_time": "2023-03-02T18:17:41.132335",
     "exception": false,
     "start_time": "2023-03-02T18:17:41.094837",
     "status": "completed"
    },
    "tags": []
   },
   "outputs": [
    {
     "data": {
      "text/html": [
       "<div>\n",
       "<style scoped>\n",
       "    .dataframe tbody tr th:only-of-type {\n",
       "        vertical-align: middle;\n",
       "    }\n",
       "\n",
       "    .dataframe tbody tr th {\n",
       "        vertical-align: top;\n",
       "    }\n",
       "\n",
       "    .dataframe thead th {\n",
       "        text-align: right;\n",
       "    }\n",
       "</style>\n",
       "<table border=\"1\" class=\"dataframe\">\n",
       "  <thead>\n",
       "    <tr style=\"text-align: right;\">\n",
       "      <th></th>\n",
       "      <th>PassengerId</th>\n",
       "      <th>Survived</th>\n",
       "      <th>Pclass</th>\n",
       "      <th>Name</th>\n",
       "      <th>Sex</th>\n",
       "      <th>Age</th>\n",
       "      <th>SibSp</th>\n",
       "      <th>Parch</th>\n",
       "      <th>Ticket</th>\n",
       "      <th>Fare</th>\n",
       "      <th>Embarked</th>\n",
       "    </tr>\n",
       "  </thead>\n",
       "  <tbody>\n",
       "    <tr>\n",
       "      <th>0</th>\n",
       "      <td>1</td>\n",
       "      <td>0</td>\n",
       "      <td>3</td>\n",
       "      <td>Braund, Mr. Owen Harris</td>\n",
       "      <td>male</td>\n",
       "      <td>0.271174</td>\n",
       "      <td>1</td>\n",
       "      <td>0</td>\n",
       "      <td>A/5 21171</td>\n",
       "      <td>0.014151</td>\n",
       "      <td>S</td>\n",
       "    </tr>\n",
       "    <tr>\n",
       "      <th>1</th>\n",
       "      <td>2</td>\n",
       "      <td>1</td>\n",
       "      <td>1</td>\n",
       "      <td>Cumings, Mrs. John Bradley (Florence Briggs Th...</td>\n",
       "      <td>female</td>\n",
       "      <td>0.472229</td>\n",
       "      <td>1</td>\n",
       "      <td>0</td>\n",
       "      <td>PC 17599</td>\n",
       "      <td>0.139136</td>\n",
       "      <td>C</td>\n",
       "    </tr>\n",
       "    <tr>\n",
       "      <th>2</th>\n",
       "      <td>3</td>\n",
       "      <td>1</td>\n",
       "      <td>3</td>\n",
       "      <td>Heikkinen, Miss. Laina</td>\n",
       "      <td>female</td>\n",
       "      <td>0.321438</td>\n",
       "      <td>0</td>\n",
       "      <td>0</td>\n",
       "      <td>STON/O2. 3101282</td>\n",
       "      <td>0.015469</td>\n",
       "      <td>S</td>\n",
       "    </tr>\n",
       "    <tr>\n",
       "      <th>3</th>\n",
       "      <td>4</td>\n",
       "      <td>1</td>\n",
       "      <td>1</td>\n",
       "      <td>Futrelle, Mrs. Jacques Heath (Lily May Peel)</td>\n",
       "      <td>female</td>\n",
       "      <td>0.434531</td>\n",
       "      <td>1</td>\n",
       "      <td>0</td>\n",
       "      <td>113803</td>\n",
       "      <td>0.103644</td>\n",
       "      <td>S</td>\n",
       "    </tr>\n",
       "    <tr>\n",
       "      <th>4</th>\n",
       "      <td>5</td>\n",
       "      <td>0</td>\n",
       "      <td>3</td>\n",
       "      <td>Allen, Mr. William Henry</td>\n",
       "      <td>male</td>\n",
       "      <td>0.434531</td>\n",
       "      <td>0</td>\n",
       "      <td>0</td>\n",
       "      <td>373450</td>\n",
       "      <td>0.015713</td>\n",
       "      <td>S</td>\n",
       "    </tr>\n",
       "  </tbody>\n",
       "</table>\n",
       "</div>"
      ],
      "text/plain": [
       "   PassengerId  Survived  Pclass  \\\n",
       "0            1         0       3   \n",
       "1            2         1       1   \n",
       "2            3         1       3   \n",
       "3            4         1       1   \n",
       "4            5         0       3   \n",
       "\n",
       "                                                Name     Sex       Age  SibSp  \\\n",
       "0                            Braund, Mr. Owen Harris    male  0.271174      1   \n",
       "1  Cumings, Mrs. John Bradley (Florence Briggs Th...  female  0.472229      1   \n",
       "2                             Heikkinen, Miss. Laina  female  0.321438      0   \n",
       "3       Futrelle, Mrs. Jacques Heath (Lily May Peel)  female  0.434531      1   \n",
       "4                           Allen, Mr. William Henry    male  0.434531      0   \n",
       "\n",
       "   Parch            Ticket      Fare Embarked  \n",
       "0      0         A/5 21171  0.014151        S  \n",
       "1      0          PC 17599  0.139136        C  \n",
       "2      0  STON/O2. 3101282  0.015469        S  \n",
       "3      0            113803  0.103644        S  \n",
       "4      0            373450  0.015713        S  "
      ]
     },
     "execution_count": 16,
     "metadata": {},
     "output_type": "execute_result"
    }
   ],
   "source": [
    "# performing feature scaling without using the scikit-learn\n",
    "#normalizing the age and fare column using the formula\n",
    "new_data = data.copy()\n",
    "new_data['Age']= (new_data['Age']-new_data['Age'].min())/(new_data['Age'].max()-new_data['Age'].min())\n",
    "new_data['Fare']=(new_data['Fare']-new_data['Fare'].min())/(new_data['Fare'].max()-new_data['Fare'].min())\n",
    "new_data.head()"
   ]
  },
  {
   "cell_type": "code",
   "execution_count": 17,
   "id": "9120e8e4",
   "metadata": {
    "execution": {
     "iopub.execute_input": "2023-03-02T18:17:41.149474Z",
     "iopub.status.busy": "2023-03-02T18:17:41.149074Z",
     "iopub.status.idle": "2023-03-02T18:17:41.171856Z",
     "shell.execute_reply": "2023-03-02T18:17:41.170916Z"
    },
    "papermill": {
     "duration": 0.034063,
     "end_time": "2023-03-02T18:17:41.174217",
     "exception": false,
     "start_time": "2023-03-02T18:17:41.140154",
     "status": "completed"
    },
    "tags": []
   },
   "outputs": [
    {
     "data": {
      "text/html": [
       "<div>\n",
       "<style scoped>\n",
       "    .dataframe tbody tr th:only-of-type {\n",
       "        vertical-align: middle;\n",
       "    }\n",
       "\n",
       "    .dataframe tbody tr th {\n",
       "        vertical-align: top;\n",
       "    }\n",
       "\n",
       "    .dataframe thead th {\n",
       "        text-align: right;\n",
       "    }\n",
       "</style>\n",
       "<table border=\"1\" class=\"dataframe\">\n",
       "  <thead>\n",
       "    <tr style=\"text-align: right;\">\n",
       "      <th></th>\n",
       "      <th>PassengerId</th>\n",
       "      <th>Survived</th>\n",
       "      <th>Pclass</th>\n",
       "      <th>Name</th>\n",
       "      <th>Sex</th>\n",
       "      <th>Age</th>\n",
       "      <th>SibSp</th>\n",
       "      <th>Parch</th>\n",
       "      <th>Ticket</th>\n",
       "      <th>Fare</th>\n",
       "      <th>Embarked</th>\n",
       "    </tr>\n",
       "  </thead>\n",
       "  <tbody>\n",
       "    <tr>\n",
       "      <th>0</th>\n",
       "      <td>1</td>\n",
       "      <td>0</td>\n",
       "      <td>3</td>\n",
       "      <td>Braund, Mr. Owen Harris</td>\n",
       "      <td>male</td>\n",
       "      <td>-0.565419</td>\n",
       "      <td>1</td>\n",
       "      <td>0</td>\n",
       "      <td>A/5 21171</td>\n",
       "      <td>-0.502163</td>\n",
       "      <td>S</td>\n",
       "    </tr>\n",
       "    <tr>\n",
       "      <th>1</th>\n",
       "      <td>2</td>\n",
       "      <td>1</td>\n",
       "      <td>1</td>\n",
       "      <td>Cumings, Mrs. John Bradley (Florence Briggs Th...</td>\n",
       "      <td>female</td>\n",
       "      <td>0.663488</td>\n",
       "      <td>1</td>\n",
       "      <td>0</td>\n",
       "      <td>PC 17599</td>\n",
       "      <td>0.786404</td>\n",
       "      <td>C</td>\n",
       "    </tr>\n",
       "    <tr>\n",
       "      <th>2</th>\n",
       "      <td>3</td>\n",
       "      <td>1</td>\n",
       "      <td>3</td>\n",
       "      <td>Heikkinen, Miss. Laina</td>\n",
       "      <td>female</td>\n",
       "      <td>-0.258192</td>\n",
       "      <td>0</td>\n",
       "      <td>0</td>\n",
       "      <td>STON/O2. 3101282</td>\n",
       "      <td>-0.488580</td>\n",
       "      <td>S</td>\n",
       "    </tr>\n",
       "    <tr>\n",
       "      <th>3</th>\n",
       "      <td>4</td>\n",
       "      <td>1</td>\n",
       "      <td>1</td>\n",
       "      <td>Futrelle, Mrs. Jacques Heath (Lily May Peel)</td>\n",
       "      <td>female</td>\n",
       "      <td>0.433068</td>\n",
       "      <td>1</td>\n",
       "      <td>0</td>\n",
       "      <td>113803</td>\n",
       "      <td>0.420494</td>\n",
       "      <td>S</td>\n",
       "    </tr>\n",
       "    <tr>\n",
       "      <th>4</th>\n",
       "      <td>5</td>\n",
       "      <td>0</td>\n",
       "      <td>3</td>\n",
       "      <td>Allen, Mr. William Henry</td>\n",
       "      <td>male</td>\n",
       "      <td>0.433068</td>\n",
       "      <td>0</td>\n",
       "      <td>0</td>\n",
       "      <td>373450</td>\n",
       "      <td>-0.486064</td>\n",
       "      <td>S</td>\n",
       "    </tr>\n",
       "  </tbody>\n",
       "</table>\n",
       "</div>"
      ],
      "text/plain": [
       "   PassengerId  Survived  Pclass  \\\n",
       "0            1         0       3   \n",
       "1            2         1       1   \n",
       "2            3         1       3   \n",
       "3            4         1       1   \n",
       "4            5         0       3   \n",
       "\n",
       "                                                Name     Sex       Age  SibSp  \\\n",
       "0                            Braund, Mr. Owen Harris    male -0.565419      1   \n",
       "1  Cumings, Mrs. John Bradley (Florence Briggs Th...  female  0.663488      1   \n",
       "2                             Heikkinen, Miss. Laina  female -0.258192      0   \n",
       "3       Futrelle, Mrs. Jacques Heath (Lily May Peel)  female  0.433068      1   \n",
       "4                           Allen, Mr. William Henry    male  0.433068      0   \n",
       "\n",
       "   Parch            Ticket      Fare Embarked  \n",
       "0      0         A/5 21171 -0.502163        S  \n",
       "1      0          PC 17599  0.786404        C  \n",
       "2      0  STON/O2. 3101282 -0.488580        S  \n",
       "3      0            113803  0.420494        S  \n",
       "4      0            373450 -0.486064        S  "
      ]
     },
     "execution_count": 17,
     "metadata": {},
     "output_type": "execute_result"
    }
   ],
   "source": [
    "#Standardization using the formula\n",
    "new_data = data.copy()\n",
    "new_data['Age']=(new_data['Age']-new_data['Age'].mean())/(new_data['Age'].std())\n",
    "new_data['Fare'] = (new_data['Fare']-new_data['Fare'].mean())/(new_data['Fare'].std())\n",
    "new_data.head()\n"
   ]
  },
  {
   "cell_type": "code",
   "execution_count": 18,
   "id": "d50b7466",
   "metadata": {
    "execution": {
     "iopub.execute_input": "2023-03-02T18:17:41.192185Z",
     "iopub.status.busy": "2023-03-02T18:17:41.191786Z",
     "iopub.status.idle": "2023-03-02T18:17:41.208362Z",
     "shell.execute_reply": "2023-03-02T18:17:41.207158Z"
    },
    "papermill": {
     "duration": 0.028633,
     "end_time": "2023-03-02T18:17:41.210694",
     "exception": false,
     "start_time": "2023-03-02T18:17:41.182061",
     "status": "completed"
    },
    "tags": []
   },
   "outputs": [
    {
     "data": {
      "text/plain": [
       "Adult       602\n",
       "Old         150\n",
       "Children    139\n",
       "Name: Age_group, dtype: int64"
      ]
     },
     "execution_count": 18,
     "metadata": {},
     "output_type": "execute_result"
    }
   ],
   "source": [
    "#applying bins on age column\n",
    "new_data = data.copy()\n",
    "new_data['Age_group']=new_data['Age_group'] = pd.cut(new_data['Age'],bins=[0,18,40,100],labels = [\"Children\",\"Adult\",\"Old\"])\n",
    "new_data['Age_group'].value_counts()"
   ]
  },
  {
   "cell_type": "code",
   "execution_count": 19,
   "id": "9c7392bf",
   "metadata": {
    "execution": {
     "iopub.execute_input": "2023-03-02T18:17:41.228292Z",
     "iopub.status.busy": "2023-03-02T18:17:41.227905Z",
     "iopub.status.idle": "2023-03-02T18:17:41.512859Z",
     "shell.execute_reply": "2023-03-02T18:17:41.511664Z"
    },
    "papermill": {
     "duration": 0.296614,
     "end_time": "2023-03-02T18:17:41.515389",
     "exception": false,
     "start_time": "2023-03-02T18:17:41.218775",
     "status": "completed"
    },
    "tags": []
   },
   "outputs": [
    {
     "data": {
      "text/plain": [
       "<AxesSubplot:>"
      ]
     },
     "execution_count": 19,
     "metadata": {},
     "output_type": "execute_result"
    },
    {
     "data": {
      "image/png": "[encoded data removed]",
      "text/plain": [
       "<Figure size 640x480 with 1 Axes>"
      ]
     },
     "metadata": {},
     "output_type": "display_data"
    }
   ],
   "source": [
    "#Checking the age group distribution\n",
    "new_data['Age_group'].hist()"
   ]
  },
  {
   "cell_type": "code",
   "execution_count": 20,
   "id": "5b1999b0",
   "metadata": {
    "execution": {
     "iopub.execute_input": "2023-03-02T18:17:41.533801Z",
     "iopub.status.busy": "2023-03-02T18:17:41.533354Z",
     "iopub.status.idle": "2023-03-02T18:17:41.542169Z",
     "shell.execute_reply": "2023-03-02T18:17:41.541018Z"
    },
    "papermill": {
     "duration": 0.021598,
     "end_time": "2023-03-02T18:17:41.545266",
     "exception": false,
     "start_time": "2023-03-02T18:17:41.523668",
     "status": "completed"
    },
    "tags": []
   },
   "outputs": [
    {
     "name": "stdout",
     "output_type": "stream",
     "text": [
      "male      577\n",
      "female    314\n",
      "Name: Sex, dtype: int64\n",
      "S    646\n",
      "C    168\n",
      "Q     77\n",
      "Name: Embarked, dtype: int64\n"
     ]
    }
   ],
   "source": [
    "#Encoding Categorical Variable\n",
    "# We have two columns with categorical values i,e. Sex and Embarked\n",
    "# lets check the unique value counts\n",
    "print(new_data['Sex'].value_counts())\n",
    "print(new_data['Embarked'].value_counts())\n"
   ]
  },
  {
   "cell_type": "code",
   "execution_count": 21,
   "id": "a866205a",
   "metadata": {
    "execution": {
     "iopub.execute_input": "2023-03-02T18:17:41.565277Z",
     "iopub.status.busy": "2023-03-02T18:17:41.564871Z",
     "iopub.status.idle": "2023-03-02T18:17:42.702967Z",
     "shell.execute_reply": "2023-03-02T18:17:42.701531Z"
    },
    "papermill": {
     "duration": 1.152633,
     "end_time": "2023-03-02T18:17:42.707671",
     "exception": false,
     "start_time": "2023-03-02T18:17:41.555038",
     "status": "completed"
    },
    "tags": []
   },
   "outputs": [
    {
     "data": {
      "text/html": [
       "<div>\n",
       "<style scoped>\n",
       "    .dataframe tbody tr th:only-of-type {\n",
       "        vertical-align: middle;\n",
       "    }\n",
       "\n",
       "    .dataframe tbody tr th {\n",
       "        vertical-align: top;\n",
       "    }\n",
       "\n",
       "    .dataframe thead th {\n",
       "        text-align: right;\n",
       "    }\n",
       "</style>\n",
       "<table border=\"1\" class=\"dataframe\">\n",
       "  <thead>\n",
       "    <tr style=\"text-align: right;\">\n",
       "      <th></th>\n",
       "      <th>PassengerId</th>\n",
       "      <th>Survived</th>\n",
       "      <th>Pclass</th>\n",
       "      <th>Name</th>\n",
       "      <th>Sex</th>\n",
       "      <th>Age</th>\n",
       "      <th>SibSp</th>\n",
       "      <th>Parch</th>\n",
       "      <th>Ticket</th>\n",
       "      <th>Fare</th>\n",
       "      <th>Embarked</th>\n",
       "      <th>Age_group</th>\n",
       "      <th>Sex_encode</th>\n",
       "    </tr>\n",
       "  </thead>\n",
       "  <tbody>\n",
       "    <tr>\n",
       "      <th>0</th>\n",
       "      <td>1</td>\n",
       "      <td>0</td>\n",
       "      <td>3</td>\n",
       "      <td>Braund, Mr. Owen Harris</td>\n",
       "      <td>male</td>\n",
       "      <td>22.0</td>\n",
       "      <td>1</td>\n",
       "      <td>0</td>\n",
       "      <td>A/5 21171</td>\n",
       "      <td>7.2500</td>\n",
       "      <td>S</td>\n",
       "      <td>Adult</td>\n",
       "      <td>1</td>\n",
       "    </tr>\n",
       "    <tr>\n",
       "      <th>1</th>\n",
       "      <td>2</td>\n",
       "      <td>1</td>\n",
       "      <td>1</td>\n",
       "      <td>Cumings, Mrs. John Bradley (Florence Briggs Th...</td>\n",
       "      <td>female</td>\n",
       "      <td>38.0</td>\n",
       "      <td>1</td>\n",
       "      <td>0</td>\n",
       "      <td>PC 17599</td>\n",
       "      <td>71.2833</td>\n",
       "      <td>C</td>\n",
       "      <td>Adult</td>\n",
       "      <td>0</td>\n",
       "    </tr>\n",
       "    <tr>\n",
       "      <th>2</th>\n",
       "      <td>3</td>\n",
       "      <td>1</td>\n",
       "      <td>3</td>\n",
       "      <td>Heikkinen, Miss. Laina</td>\n",
       "      <td>female</td>\n",
       "      <td>26.0</td>\n",
       "      <td>0</td>\n",
       "      <td>0</td>\n",
       "      <td>STON/O2. 3101282</td>\n",
       "      <td>7.9250</td>\n",
       "      <td>S</td>\n",
       "      <td>Adult</td>\n",
       "      <td>0</td>\n",
       "    </tr>\n",
       "    <tr>\n",
       "      <th>3</th>\n",
       "      <td>4</td>\n",
       "      <td>1</td>\n",
       "      <td>1</td>\n",
       "      <td>Futrelle, Mrs. Jacques Heath (Lily May Peel)</td>\n",
       "      <td>female</td>\n",
       "      <td>35.0</td>\n",
       "      <td>1</td>\n",
       "      <td>0</td>\n",
       "      <td>113803</td>\n",
       "      <td>53.1000</td>\n",
       "      <td>S</td>\n",
       "      <td>Adult</td>\n",
       "      <td>0</td>\n",
       "    </tr>\n",
       "    <tr>\n",
       "      <th>4</th>\n",
       "      <td>5</td>\n",
       "      <td>0</td>\n",
       "      <td>3</td>\n",
       "      <td>Allen, Mr. William Henry</td>\n",
       "      <td>male</td>\n",
       "      <td>35.0</td>\n",
       "      <td>0</td>\n",
       "      <td>0</td>\n",
       "      <td>373450</td>\n",
       "      <td>8.0500</td>\n",
       "      <td>S</td>\n",
       "      <td>Adult</td>\n",
       "      <td>1</td>\n",
       "    </tr>\n",
       "  </tbody>\n",
       "</table>\n",
       "</div>"
      ],
      "text/plain": [
       "   PassengerId  Survived  Pclass  \\\n",
       "0            1         0       3   \n",
       "1            2         1       1   \n",
       "2            3         1       3   \n",
       "3            4         1       1   \n",
       "4            5         0       3   \n",
       "\n",
       "                                                Name     Sex   Age  SibSp  \\\n",
       "0                            Braund, Mr. Owen Harris    male  22.0      1   \n",
       "1  Cumings, Mrs. John Bradley (Florence Briggs Th...  female  38.0      1   \n",
       "2                             Heikkinen, Miss. Laina  female  26.0      0   \n",
       "3       Futrelle, Mrs. Jacques Heath (Lily May Peel)  female  35.0      1   \n",
       "4                           Allen, Mr. William Henry    male  35.0      0   \n",
       "\n",
       "   Parch            Ticket     Fare Embarked Age_group  Sex_encode  \n",
       "0      0         A/5 21171   7.2500        S     Adult           1  \n",
       "1      0          PC 17599  71.2833        C     Adult           0  \n",
       "2      0  STON/O2. 3101282   7.9250        S     Adult           0  \n",
       "3      0            113803  53.1000        S     Adult           0  \n",
       "4      0            373450   8.0500        S     Adult           1  "
      ]
     },
     "execution_count": 21,
     "metadata": {},
     "output_type": "execute_result"
    }
   ],
   "source": [
    "#implementing integer encoding on sex column\n",
    "from sklearn import preprocessing\n",
    "labelencoder = preprocessing.LabelEncoder()\n",
    "new_data['Sex_encode'] = labelencoder.fit_transform(new_data['Sex'])\n",
    "new_data.head()"
   ]
  },
  {
   "cell_type": "code",
   "execution_count": 22,
   "id": "9d286825",
   "metadata": {
    "execution": {
     "iopub.execute_input": "2023-03-02T18:17:42.727255Z",
     "iopub.status.busy": "2023-03-02T18:17:42.726810Z",
     "iopub.status.idle": "2023-03-02T18:17:42.752724Z",
     "shell.execute_reply": "2023-03-02T18:17:42.751866Z"
    },
    "papermill": {
     "duration": 0.038853,
     "end_time": "2023-03-02T18:17:42.755391",
     "exception": false,
     "start_time": "2023-03-02T18:17:42.716538",
     "status": "completed"
    },
    "tags": []
   },
   "outputs": [
    {
     "data": {
      "text/html": [
       "<div>\n",
       "<style scoped>\n",
       "    .dataframe tbody tr th:only-of-type {\n",
       "        vertical-align: middle;\n",
       "    }\n",
       "\n",
       "    .dataframe tbody tr th {\n",
       "        vertical-align: top;\n",
       "    }\n",
       "\n",
       "    .dataframe thead th {\n",
       "        text-align: right;\n",
       "    }\n",
       "</style>\n",
       "<table border=\"1\" class=\"dataframe\">\n",
       "  <thead>\n",
       "    <tr style=\"text-align: right;\">\n",
       "      <th></th>\n",
       "      <th>PassengerId</th>\n",
       "      <th>Survived</th>\n",
       "      <th>Pclass</th>\n",
       "      <th>Name</th>\n",
       "      <th>Sex</th>\n",
       "      <th>Age</th>\n",
       "      <th>SibSp</th>\n",
       "      <th>Parch</th>\n",
       "      <th>Ticket</th>\n",
       "      <th>Fare</th>\n",
       "      <th>Age_group</th>\n",
       "      <th>Sex_encode</th>\n",
       "      <th>Embarked_C</th>\n",
       "      <th>Embarked_Q</th>\n",
       "      <th>Embarked_S</th>\n",
       "    </tr>\n",
       "  </thead>\n",
       "  <tbody>\n",
       "    <tr>\n",
       "      <th>0</th>\n",
       "      <td>1</td>\n",
       "      <td>0</td>\n",
       "      <td>3</td>\n",
       "      <td>Braund, Mr. Owen Harris</td>\n",
       "      <td>male</td>\n",
       "      <td>22.0</td>\n",
       "      <td>1</td>\n",
       "      <td>0</td>\n",
       "      <td>A/5 21171</td>\n",
       "      <td>7.2500</td>\n",
       "      <td>Adult</td>\n",
       "      <td>1</td>\n",
       "      <td>0</td>\n",
       "      <td>0</td>\n",
       "      <td>1</td>\n",
       "    </tr>\n",
       "    <tr>\n",
       "      <th>1</th>\n",
       "      <td>2</td>\n",
       "      <td>1</td>\n",
       "      <td>1</td>\n",
       "      <td>Cumings, Mrs. John Bradley (Florence Briggs Th...</td>\n",
       "      <td>female</td>\n",
       "      <td>38.0</td>\n",
       "      <td>1</td>\n",
       "      <td>0</td>\n",
       "      <td>PC 17599</td>\n",
       "      <td>71.2833</td>\n",
       "      <td>Adult</td>\n",
       "      <td>0</td>\n",
       "      <td>1</td>\n",
       "      <td>0</td>\n",
       "      <td>0</td>\n",
       "    </tr>\n",
       "    <tr>\n",
       "      <th>2</th>\n",
       "      <td>3</td>\n",
       "      <td>1</td>\n",
       "      <td>3</td>\n",
       "      <td>Heikkinen, Miss. Laina</td>\n",
       "      <td>female</td>\n",
       "      <td>26.0</td>\n",
       "      <td>0</td>\n",
       "      <td>0</td>\n",
       "      <td>STON/O2. 3101282</td>\n",
       "      <td>7.9250</td>\n",
       "      <td>Adult</td>\n",
       "      <td>0</td>\n",
       "      <td>0</td>\n",
       "      <td>0</td>\n",
       "      <td>1</td>\n",
       "    </tr>\n",
       "    <tr>\n",
       "      <th>3</th>\n",
       "      <td>4</td>\n",
       "      <td>1</td>\n",
       "      <td>1</td>\n",
       "      <td>Futrelle, Mrs. Jacques Heath (Lily May Peel)</td>\n",
       "      <td>female</td>\n",
       "      <td>35.0</td>\n",
       "      <td>1</td>\n",
       "      <td>0</td>\n",
       "      <td>113803</td>\n",
       "      <td>53.1000</td>\n",
       "      <td>Adult</td>\n",
       "      <td>0</td>\n",
       "      <td>0</td>\n",
       "      <td>0</td>\n",
       "      <td>1</td>\n",
       "    </tr>\n",
       "    <tr>\n",
       "      <th>4</th>\n",
       "      <td>5</td>\n",
       "      <td>0</td>\n",
       "      <td>3</td>\n",
       "      <td>Allen, Mr. William Henry</td>\n",
       "      <td>male</td>\n",
       "      <td>35.0</td>\n",
       "      <td>0</td>\n",
       "      <td>0</td>\n",
       "      <td>373450</td>\n",
       "      <td>8.0500</td>\n",
       "      <td>Adult</td>\n",
       "      <td>1</td>\n",
       "      <td>0</td>\n",
       "      <td>0</td>\n",
       "      <td>1</td>\n",
       "    </tr>\n",
       "  </tbody>\n",
       "</table>\n",
       "</div>"
      ],
      "text/plain": [
       "   PassengerId  Survived  Pclass  \\\n",
       "0            1         0       3   \n",
       "1            2         1       1   \n",
       "2            3         1       3   \n",
       "3            4         1       1   \n",
       "4            5         0       3   \n",
       "\n",
       "                                                Name     Sex   Age  SibSp  \\\n",
       "0                            Braund, Mr. Owen Harris    male  22.0      1   \n",
       "1  Cumings, Mrs. John Bradley (Florence Briggs Th...  female  38.0      1   \n",
       "2                             Heikkinen, Miss. Laina  female  26.0      0   \n",
       "3       Futrelle, Mrs. Jacques Heath (Lily May Peel)  female  35.0      1   \n",
       "4                           Allen, Mr. William Henry    male  35.0      0   \n",
       "\n",
       "   Parch            Ticket     Fare Age_group  Sex_encode  Embarked_C  \\\n",
       "0      0         A/5 21171   7.2500     Adult           1           0   \n",
       "1      0          PC 17599  71.2833     Adult           0           1   \n",
       "2      0  STON/O2. 3101282   7.9250     Adult           0           0   \n",
       "3      0            113803  53.1000     Adult           0           0   \n",
       "4      0            373450   8.0500     Adult           1           0   \n",
       "\n",
       "   Embarked_Q  Embarked_S  \n",
       "0           0           1  \n",
       "1           0           0  \n",
       "2           0           1  \n",
       "3           0           1  \n",
       "4           0           1  "
      ]
     },
     "execution_count": 22,
     "metadata": {},
     "output_type": "execute_result"
    }
   ],
   "source": [
    "new_data = pd.get_dummies(new_data,columns=['Embarked'])\n",
    "new_data.head()"
   ]
  },
  {
   "cell_type": "code",
   "execution_count": null,
   "id": "e2684d43",
   "metadata": {
    "papermill": {
     "duration": 0.008649,
     "end_time": "2023-03-02T18:17:42.772977",
     "exception": false,
     "start_time": "2023-03-02T18:17:42.764328",
     "status": "completed"
    },
    "tags": []
   },
   "outputs": [],
   "source": []
  }
 ],
 "metadata": {
  "kernelspec": {
   "display_name": "Python 3",
   "language": "python",
   "name": "python3"
  },
  "language_info": {
   "codemirror_mode": {
    "name": "ipython",
    "version": 3
   },
   "file_extension": ".py",
   "mimetype": "text/x-python",
   "name": "python",
   "nbconvert_exporter": "python",
   "pygments_lexer": "ipython3",
   "version": "3.7.12"
  },
  "papermill": {
   "default_parameters": {},
   "duration": 13.378206,
   "end_time": "2023-03-02T18:17:43.606522",
   "environment_variables": {},
   "exception": null,
   "input_path": "__notebook__.ipynb",
   "output_path": "__notebook__.ipynb",
   "parameters": {},
   "start_time": "2023-03-02T18:17:30.228316",
   "version": "2.3.4"
  }
 },
 "nbformat": 4,
 "nbformat_minor": 5
}
